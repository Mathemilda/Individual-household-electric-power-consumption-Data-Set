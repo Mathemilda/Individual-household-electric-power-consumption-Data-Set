{
 "cells": [
  {
   "cell_type": "markdown",
   "metadata": {},
   "source": [
    "# Individual household electric power consumption Data Set cleaning\n",
    "The set is taken from here: https://archive.ics.uci.edu/ml/datasets/individual+household+electric+power+consumption#\n",
    "\n",
    "The file has extention .txt and it contains a semicolon delimited table with a header."
   ]
  },
  {
   "cell_type": "code",
   "execution_count": 1,
   "metadata": {},
   "outputs": [],
   "source": [
    "import pandas as pd\n",
    "import numpy as np\n",
    "import matplotlib.pyplot as plt\n",
    "from datetime import date\n",
    "from datetime import timedelta"
   ]
  },
  {
   "cell_type": "markdown",
   "metadata": {},
   "source": [
    "## Data download and initial check\n",
    "Let us to download the data, look at first rows and check dimensions."
   ]
  },
  {
   "cell_type": "code",
   "execution_count": 2,
   "metadata": {},
   "outputs": [
    {
     "data": {
      "text/plain": [
       "(         Date      Time Global_active_power Global_reactive_power  Voltage  \\\n",
       " 0  16/12/2006  17:24:00               4.216                 0.418  234.840   \n",
       " 1  16/12/2006  17:25:00               5.360                 0.436  233.630   \n",
       " 2  16/12/2006  17:26:00               5.374                 0.498  233.290   \n",
       " 3  16/12/2006  17:27:00               5.388                 0.502  233.740   \n",
       " 4  16/12/2006  17:28:00               3.666                 0.528  235.680   \n",
       " \n",
       "   Global_intensity Sub_metering_1 Sub_metering_2  Sub_metering_3  \n",
       " 0           18.400          0.000          1.000            17.0  \n",
       " 1           23.000          0.000          1.000            16.0  \n",
       " 2           23.000          0.000          2.000            17.0  \n",
       " 3           23.000          0.000          1.000            17.0  \n",
       " 4           15.800          0.000          1.000            17.0  ,\n",
       " (2075259, 9))"
      ]
     },
     "execution_count": 2,
     "metadata": {},
     "output_type": "execute_result"
    }
   ],
   "source": [
    "power_consumption = pd.read_csv('household_power_consumption.txt', sep=';', low_memory=False)\n",
    "power_consumption.head(), power_consumption.shape"
   ]
  },
  {
   "cell_type": "markdown",
   "metadata": {},
   "source": [
    "As we see the table has 2 million\n",
    "rows, and the date column has European standard: a day number before a month number.\n",
    "\n",
    "What are our columns types?"
   ]
  },
  {
   "cell_type": "code",
   "execution_count": 3,
   "metadata": {},
   "outputs": [
    {
     "data": {
      "text/plain": [
       "Date                      object\n",
       "Time                      object\n",
       "Global_active_power       object\n",
       "Global_reactive_power     object\n",
       "Voltage                   object\n",
       "Global_intensity          object\n",
       "Sub_metering_1            object\n",
       "Sub_metering_2            object\n",
       "Sub_metering_3           float64\n",
       "dtype: object"
      ]
     },
     "execution_count": 3,
     "metadata": {},
     "output_type": "execute_result"
    }
   ],
   "source": [
    "power_consumption.dtypes"
   ]
  },
  {
   "cell_type": "markdown",
   "metadata": {},
   "source": [
    "What is a range for the numbers of records for a day?"
   ]
  },
  {
   "cell_type": "code",
   "execution_count": 4,
   "metadata": {},
   "outputs": [
    {
     "data": {
      "text/plain": [
       "(396, 1440)"
      ]
     },
     "execution_count": 4,
     "metadata": {},
     "output_type": "execute_result"
    }
   ],
   "source": [
    "number_of_entries_per_day = dict()\n",
    "for day in power_consumption.Date:\n",
    "    if day in number_of_entries_per_day:\n",
    "        number_of_entries_per_day[day] +=1\n",
    "    else:\n",
    "        number_of_entries_per_day[day] = 1\n",
    "\n",
    "frequences = number_of_entries_per_day.values()\n",
    "min(frequences), max(frequences)"
   ]
  },
  {
   "cell_type": "code",
   "execution_count": 5,
   "metadata": {},
   "outputs": [
    {
     "data": {
      "image/png": "[encoded data removed]",
      "text/plain": [
       "<Figure size 432x288 with 1 Axes>"
      ]
     },
     "metadata": {
      "needs_background": "light"
     },
     "output_type": "display_data"
    }
   ],
   "source": [
    "plt.hist(frequences, bins=10)\n",
    "plt.show()\n"
   ]
  },
  {
   "cell_type": "markdown",
   "metadata": {},
   "source": [
    "As we see a vast majority of days have about the same amount of records. \n",
    "\n",
    "How uniformly our observations are distributed during 24-hour period?"
   ]
  },
  {
   "cell_type": "code",
   "execution_count": 6,
   "metadata": {},
   "outputs": [
    {
     "data": {
      "text/plain": [
       "(3, 60)"
      ]
     },
     "execution_count": 6,
     "metadata": {},
     "output_type": "execute_result"
    }
   ],
   "source": [
    "number_of_entries_per_day_and_hour = dict()\n",
    "for day, entry in zip(power_consumption.Date, power_consumption.Time):\n",
    "    hour = entry[:2]\n",
    "    if (day,hour) in number_of_entries_per_day_and_hour:\n",
    "        number_of_entries_per_day_and_hour[(day,hour)] +=1\n",
    "    else:\n",
    "        number_of_entries_per_day_and_hour[(day,hour)] = 1\n",
    "\n",
    "frequences = number_of_entries_per_day_and_hour.values()\n",
    "min(frequences), max(frequences)"
   ]
  },
  {
   "cell_type": "code",
   "execution_count": 7,
   "metadata": {},
   "outputs": [
    {
     "data": {
      "image/png": "[encoded data removed]",
      "text/plain": [
       "<Figure size 432x288 with 1 Axes>"
      ]
     },
     "metadata": {
      "needs_background": "light"
     },
     "output_type": "display_data"
    }
   ],
   "source": [
    "plt.hist(frequences, bins=10)\n",
    "plt.show()"
   ]
  },
  {
   "cell_type": "markdown",
   "metadata": {},
   "source": [
    "The next question is: do we have any missing days? \n",
    "\n",
    "We can figure out that years for our data are 2006, 2007, 2008, 2009, 2010, because the first year is 2006 and we have 47 month of data. Recall that a year in our `Date` column takes last 4 places."
   ]
  },
  {
   "cell_type": "code",
   "execution_count": 8,
   "metadata": {},
   "outputs": [
    {
     "data": {
      "text/plain": [
       "{2006: 16, 2007: 365, 2008: 366, 2009: 365, 2010: 330}"
      ]
     },
     "execution_count": 8,
     "metadata": {},
     "output_type": "execute_result"
    }
   ],
   "source": [
    "days_in_a_year = {2006: (0), 2007:(0), 2008: (0), 2009:(0), 2010:(0)}\n",
    "\n",
    "for day in number_of_entries_per_day:\n",
    "    year = int(day[-4:])\n",
    "    days_in_a_year[year] += 1\n",
    "\n",
    "days_in_a_year"
   ]
  },
  {
   "cell_type": "markdown",
   "metadata": {},
   "source": [
    "Clearly we are fine with years 2007, 2008, 2009. We are good even with 2006 if we think about it: the only days for it are in December, and here are 31 days in the month. We start our records from 16th, so 15 days in December were without records, and 31-15 = 16. The year 2010 is more complicated. But we can get enumeration of year days in our data for the year, and check if the list contains all intermediate numbers."
   ]
  },
  {
   "cell_type": "code",
   "execution_count": 9,
   "metadata": {},
   "outputs": [
    {
     "data": {
      "text/plain": [
       "('001', '345')"
      ]
     },
     "execution_count": 9,
     "metadata": {},
     "output_type": "execute_result"
    }
   ],
   "source": [
    "year2010days = [pd.to_datetime(date).strftime('%j') for date  in number_of_entries_per_day.keys() if date[-4:] == '2010']\n",
    "min(year2010days), max(year2010days)"
   ]
  },
  {
   "cell_type": "markdown",
   "metadata": {},
   "source": [
    "We obviously have some missing days. Let us see which ones. "
   ]
  },
  {
   "cell_type": "code",
   "execution_count": 10,
   "metadata": {},
   "outputs": [
    {
     "name": "stdout",
     "output_type": "stream",
     "text": [
      "A number of missing days in 2010 is 15. Here they are:\n",
      "Tuesday 12, January 2010\n",
      "Friday 12, February 2010\n",
      "Friday 12, March 2010\n",
      "Monday 12, April 2010\n",
      "Wednesday 12, May 2010\n",
      "Saturday 12, June 2010\n",
      "Monday 12, July 2010\n",
      "Thursday 12, August 2010\n",
      "Sunday 12, September 2010\n",
      "Tuesday 12, October 2010\n",
      "Friday 12, November 2010\n",
      "Saturday 27, November 2010\n",
      "Sunday 28, November 2010\n",
      "Monday 29, November 2010\n",
      "Tuesday 30, November 2010\n",
      "The last day of recording is Saturday 11, December 2010.\n"
     ]
    }
   ],
   "source": [
    "missing_dates = list(range(1, 346))\n",
    "for i in year2010days:\n",
    "        missing_dates.remove(int(i))\n",
    "\n",
    "print(\"A number of missing days in 2010 is {}. Here they are:\".format(len(missing_dates)))\n",
    "missing_dates.sort()\n",
    "first_day_2010 = date(2010, 1, 1)\n",
    "for i in missing_dates:\n",
    "    print((first_day_2010 + timedelta(days=i-1)).strftime(\"%A %d, %B %Y\"))\n",
    "\n",
    "print(\"The last day of recording is {}.\".format((first_day_2010 + timedelta(days=344)).strftime(\"%A %d, %B %Y\")))"
   ]
  },
  {
   "cell_type": "markdown",
   "metadata": {},
   "source": [
    "Something strange with 12th day of a month. And a few days in the end of the November are missing. \n",
    "\n",
    "What is the proportion with respect to the total number of days?"
   ]
  },
  {
   "cell_type": "code",
   "execution_count": 15,
   "metadata": {},
   "outputs": [
    {
     "data": {
      "text/plain": [
       "0.010402219140083218"
      ]
     },
     "execution_count": 15,
     "metadata": {},
     "output_type": "execute_result"
    }
   ],
   "source": [
    "15/(16+365+366+365+330)"
   ]
  },
  {
   "cell_type": "markdown",
   "metadata": {},
   "source": [
    "So we have 1% more of missing data, above declared 1.25% in the data description. Still it is not very much, unless we decide to investigate what happens each month of year 2010."
   ]
  },
  {
   "cell_type": "markdown",
   "metadata": {},
   "source": [
    "## Conversion into Date and Time types.\n",
    "\n",
    "It looks like our Date and Time columns do not have missing values, or the previous cells would fail. I will transform them into Python date and time types, correspondingly. In addition I can create a timestamp column."
   ]
  },
  {
   "cell_type": "code",
   "execution_count": 11,
   "metadata": {},
   "outputs": [],
   "source": [
    "power_consumption[\"Date\"] = pd.to_datetime(power_consumption[\"Date\"])\n",
    "power_consumption[\"Time\"] = pd.to_timedelta(power_consumption[\"Time\"])\n",
    "power_consumption[\"Timestamp\"] = power_consumption[\"Date\"] + power_consumption[\"Time\"]"
   ]
  },
  {
   "cell_type": "markdown",
   "metadata": {},
   "source": [
    "## Missing values as NaN\n",
    "I will calculate missing values for each column."
   ]
  },
  {
   "cell_type": "code",
   "execution_count": 12,
   "metadata": {},
   "outputs": [
    {
     "data": {
      "text/plain": [
       "Date                         0\n",
       "Time                         0\n",
       "Global_active_power          0\n",
       "Global_reactive_power        0\n",
       "Voltage                      0\n",
       "Global_intensity             0\n",
       "Sub_metering_1               0\n",
       "Sub_metering_2               0\n",
       "Sub_metering_3           25979\n",
       "Timestamp                    0\n",
       "dtype: int64"
      ]
     },
     "execution_count": 12,
     "metadata": {},
     "output_type": "execute_result"
    }
   ],
   "source": [
    "power_consumption.isnull().sum()"
   ]
  },
  {
   "cell_type": "markdown",
   "metadata": {},
   "source": [
    "We see missing values in the last column. \n",
    "\n",
    "## Discovery of masked missing values and their consequent replacement with NaNs.\n",
    "\n",
    "Now I need to change data types so I can use them as numeric values. I will start with numerical values."
   ]
  },
  {
   "cell_type": "code",
   "execution_count": 13,
   "metadata": {},
   "outputs": [
    {
     "ename": "ValueError",
     "evalue": "Unable to parse string \"?\" at position 6839",
     "output_type": "error",
     "traceback": [
      "\u001b[1;31m---------------------------------------------------------------------------\u001b[0m",
      "\u001b[1;31mValueError\u001b[0m                                Traceback (most recent call last)",
      "\u001b[1;32mpandas\\_libs\\lib.pyx\u001b[0m in \u001b[0;36mpandas._libs.lib.maybe_convert_numeric\u001b[1;34m()\u001b[0m\n",
      "\u001b[1;31mValueError\u001b[0m: Unable to parse string \"?\"",
      "\nDuring handling of the above exception, another exception occurred:\n",
      "\u001b[1;31mValueError\u001b[0m                                Traceback (most recent call last)",
      "\u001b[1;32m<ipython-input-13-79ed4a4d3d7b>\u001b[0m in \u001b[0;36m<module>\u001b[1;34m\u001b[0m\n\u001b[0;32m      3\u001b[0m \u001b[1;33m\u001b[0m\u001b[0m\n\u001b[0;32m      4\u001b[0m \u001b[1;32mfor\u001b[0m \u001b[0mcol\u001b[0m \u001b[1;32min\u001b[0m \u001b[0mcols\u001b[0m\u001b[1;33m:\u001b[0m\u001b[1;33m\u001b[0m\u001b[1;33m\u001b[0m\u001b[0m\n\u001b[1;32m----> 5\u001b[1;33m     \u001b[0mpower_consumption\u001b[0m\u001b[1;33m[\u001b[0m\u001b[0mcol\u001b[0m\u001b[1;33m]\u001b[0m \u001b[1;33m=\u001b[0m \u001b[0mpd\u001b[0m\u001b[1;33m.\u001b[0m\u001b[0mto_numeric\u001b[0m\u001b[1;33m(\u001b[0m\u001b[0mpower_consumption\u001b[0m\u001b[1;33m[\u001b[0m\u001b[0mcol\u001b[0m\u001b[1;33m]\u001b[0m\u001b[1;33m)\u001b[0m\u001b[1;33m\u001b[0m\u001b[1;33m\u001b[0m\u001b[0m\n\u001b[0m",
      "\u001b[1;32m~\\Miniconda3\\lib\\site-packages\\pandas\\core\\tools\\numeric.py\u001b[0m in \u001b[0;36mto_numeric\u001b[1;34m(arg, errors, downcast)\u001b[0m\n\u001b[0;32m    149\u001b[0m             \u001b[0mcoerce_numeric\u001b[0m \u001b[1;33m=\u001b[0m \u001b[0merrors\u001b[0m \u001b[1;32mnot\u001b[0m \u001b[1;32min\u001b[0m \u001b[1;33m(\u001b[0m\u001b[1;34m\"ignore\"\u001b[0m\u001b[1;33m,\u001b[0m \u001b[1;34m\"raise\"\u001b[0m\u001b[1;33m)\u001b[0m\u001b[1;33m\u001b[0m\u001b[1;33m\u001b[0m\u001b[0m\n\u001b[0;32m    150\u001b[0m             values = lib.maybe_convert_numeric(\n\u001b[1;32m--> 151\u001b[1;33m                 \u001b[0mvalues\u001b[0m\u001b[1;33m,\u001b[0m \u001b[0mset\u001b[0m\u001b[1;33m(\u001b[0m\u001b[1;33m)\u001b[0m\u001b[1;33m,\u001b[0m \u001b[0mcoerce_numeric\u001b[0m\u001b[1;33m=\u001b[0m\u001b[0mcoerce_numeric\u001b[0m\u001b[1;33m\u001b[0m\u001b[1;33m\u001b[0m\u001b[0m\n\u001b[0m\u001b[0;32m    152\u001b[0m             )\n\u001b[0;32m    153\u001b[0m \u001b[1;33m\u001b[0m\u001b[0m\n",
      "\u001b[1;32mpandas\\_libs\\lib.pyx\u001b[0m in \u001b[0;36mpandas._libs.lib.maybe_convert_numeric\u001b[1;34m()\u001b[0m\n",
      "\u001b[1;31mValueError\u001b[0m: Unable to parse string \"?\" at position 6839"
     ]
    }
   ],
   "source": [
    "cols = list(power_consumption.columns)\n",
    "cols.remove('Date'), cols.remove('Time'), cols.remove('Timestamp'), cols.remove('Sub_metering_3')\n",
    "\n",
    "for col in cols:\n",
    "    power_consumption[col] = pd.to_numeric(power_consumption[col])"
   ]
  },
  {
   "cell_type": "markdown",
   "metadata": {},
   "source": [
    "I see a non-numerical value in the table, \"?\". It appears at row 6839. Let us look at the row."
   ]
  },
  {
   "cell_type": "code",
   "execution_count": 16,
   "metadata": {},
   "outputs": [
    {
     "data": {
      "text/plain": [
       "Date                     2006-12-21 00:00:00\n",
       "Time                         0 days 11:23:00\n",
       "Global_active_power                        ?\n",
       "Global_reactive_power                      ?\n",
       "Voltage                                    ?\n",
       "Global_intensity                           ?\n",
       "Sub_metering_1                             ?\n",
       "Sub_metering_2                             ?\n",
       "Sub_metering_3                           NaN\n",
       "Timestamp                2006-12-21 11:23:00\n",
       "Name: 6839, dtype: object"
      ]
     },
     "execution_count": 16,
     "metadata": {},
     "output_type": "execute_result"
    }
   ],
   "source": [
    "power_consumption.iloc[6839, :]"
   ]
  },
  {
   "cell_type": "markdown",
   "metadata": {},
   "source": [
    "Alas, here are more missing values. They are masked as '?'. I would rather have `NaN` instead. "
   ]
  },
  {
   "cell_type": "code",
   "execution_count": 17,
   "metadata": {},
   "outputs": [
    {
     "data": {
      "text/plain": [
       "(Date                         0\n",
       " Time                         0\n",
       " Global_active_power      25979\n",
       " Global_reactive_power    25979\n",
       " Voltage                  25979\n",
       " Global_intensity         25979\n",
       " Sub_metering_1           25979\n",
       " Sub_metering_2           25979\n",
       " Sub_metering_3           25979\n",
       " Timestamp                    0\n",
       " dtype: int64, Date                     2006-12-21 00:00:00\n",
       " Time                         0 days 11:23:00\n",
       " Global_active_power                      NaN\n",
       " Global_reactive_power                    NaN\n",
       " Voltage                                  NaN\n",
       " Global_intensity                         NaN\n",
       " Sub_metering_1                           NaN\n",
       " Sub_metering_2                           NaN\n",
       " Sub_metering_3                           NaN\n",
       " Timestamp                2006-12-21 11:23:00\n",
       " Name: 6839, dtype: object)"
      ]
     },
     "execution_count": 17,
     "metadata": {},
     "output_type": "execute_result"
    }
   ],
   "source": [
    "power_consumption = power_consumption.replace('?', np.NaN)\n",
    "power_consumption.isnull().sum(), power_consumption.iloc[6839, :]"
   ]
  },
  {
   "cell_type": "markdown",
   "metadata": {},
   "source": [
    "Let us see what is a proportion of rows with missing values."
   ]
  },
  {
   "cell_type": "code",
   "execution_count": 18,
   "metadata": {},
   "outputs": [
    {
     "data": {
      "text/plain": [
       "0.012518437457686004"
      ]
     },
     "execution_count": 18,
     "metadata": {},
     "output_type": "execute_result"
    }
   ],
   "source": [
    "25979/2075259"
   ]
  },
  {
   "cell_type": "markdown",
   "metadata": {},
   "source": [
    "So these are 1.25% of missing values about which we read on the data set home page.\n",
    "\n",
    "## Conversion to numerical values.\n",
    "\n",
    "At this point the rest of column types may be switched to numerical."
   ]
  },
  {
   "cell_type": "code",
   "execution_count": 19,
   "metadata": {},
   "outputs": [
    {
     "data": {
      "text/plain": [
       "Date                      datetime64[ns]\n",
       "Time                     timedelta64[ns]\n",
       "Global_active_power              float64\n",
       "Global_reactive_power            float64\n",
       "Voltage                          float64\n",
       "Global_intensity                 float64\n",
       "Sub_metering_1                   float64\n",
       "Sub_metering_2                   float64\n",
       "Sub_metering_3                   float64\n",
       "Timestamp                 datetime64[ns]\n",
       "dtype: object"
      ]
     },
     "execution_count": 19,
     "metadata": {},
     "output_type": "execute_result"
    }
   ],
   "source": [
    "for col in cols:\n",
    "    power_consumption[col] = pd.to_numeric(power_consumption[col])\n",
    "power_consumption.dtypes"
   ]
  },
  {
   "cell_type": "markdown",
   "metadata": {},
   "source": [
    "Here is a final check of data:"
   ]
  },
  {
   "cell_type": "code",
   "execution_count": 20,
   "metadata": {},
   "outputs": [
    {
     "data": {
      "text/plain": [
       "Date                      datetime64[ns]\n",
       "Time                     timedelta64[ns]\n",
       "Global_active_power              float64\n",
       "Global_reactive_power            float64\n",
       "Voltage                          float64\n",
       "Global_intensity                 float64\n",
       "Sub_metering_1                   float64\n",
       "Sub_metering_2                   float64\n",
       "Sub_metering_3                   float64\n",
       "Timestamp                 datetime64[ns]\n",
       "dtype: object"
      ]
     },
     "execution_count": 20,
     "metadata": {},
     "output_type": "execute_result"
    }
   ],
   "source": [
    "power_consumption.dtypes"
   ]
  },
  {
   "cell_type": "code",
   "execution_count": 21,
   "metadata": {},
   "outputs": [
    {
     "data": {
      "text/html": [
       "<div>\n",
       "<style scoped>\n",
       "    .dataframe tbody tr th:only-of-type {\n",
       "        vertical-align: middle;\n",
       "    }\n",
       "\n",
       "    .dataframe tbody tr th {\n",
       "        vertical-align: top;\n",
       "    }\n",
       "\n",
       "    .dataframe thead th {\n",
       "        text-align: right;\n",
       "    }\n",
       "</style>\n",
       "<table border=\"1\" class=\"dataframe\">\n",
       "  <thead>\n",
       "    <tr style=\"text-align: right;\">\n",
       "      <th></th>\n",
       "      <th>Date</th>\n",
       "      <th>Time</th>\n",
       "      <th>Global_active_power</th>\n",
       "      <th>Global_reactive_power</th>\n",
       "      <th>Voltage</th>\n",
       "      <th>Global_intensity</th>\n",
       "      <th>Sub_metering_1</th>\n",
       "      <th>Sub_metering_2</th>\n",
       "      <th>Sub_metering_3</th>\n",
       "      <th>Timestamp</th>\n",
       "    </tr>\n",
       "  </thead>\n",
       "  <tbody>\n",
       "    <tr>\n",
       "      <th>0</th>\n",
       "      <td>2006-12-16</td>\n",
       "      <td>17:24:00</td>\n",
       "      <td>4.216</td>\n",
       "      <td>0.418</td>\n",
       "      <td>234.84</td>\n",
       "      <td>18.4</td>\n",
       "      <td>0.0</td>\n",
       "      <td>1.0</td>\n",
       "      <td>17.0</td>\n",
       "      <td>2006-12-16 17:24:00</td>\n",
       "    </tr>\n",
       "    <tr>\n",
       "      <th>1</th>\n",
       "      <td>2006-12-16</td>\n",
       "      <td>17:25:00</td>\n",
       "      <td>5.360</td>\n",
       "      <td>0.436</td>\n",
       "      <td>233.63</td>\n",
       "      <td>23.0</td>\n",
       "      <td>0.0</td>\n",
       "      <td>1.0</td>\n",
       "      <td>16.0</td>\n",
       "      <td>2006-12-16 17:25:00</td>\n",
       "    </tr>\n",
       "    <tr>\n",
       "      <th>2</th>\n",
       "      <td>2006-12-16</td>\n",
       "      <td>17:26:00</td>\n",
       "      <td>5.374</td>\n",
       "      <td>0.498</td>\n",
       "      <td>233.29</td>\n",
       "      <td>23.0</td>\n",
       "      <td>0.0</td>\n",
       "      <td>2.0</td>\n",
       "      <td>17.0</td>\n",
       "      <td>2006-12-16 17:26:00</td>\n",
       "    </tr>\n",
       "    <tr>\n",
       "      <th>3</th>\n",
       "      <td>2006-12-16</td>\n",
       "      <td>17:27:00</td>\n",
       "      <td>5.388</td>\n",
       "      <td>0.502</td>\n",
       "      <td>233.74</td>\n",
       "      <td>23.0</td>\n",
       "      <td>0.0</td>\n",
       "      <td>1.0</td>\n",
       "      <td>17.0</td>\n",
       "      <td>2006-12-16 17:27:00</td>\n",
       "    </tr>\n",
       "    <tr>\n",
       "      <th>4</th>\n",
       "      <td>2006-12-16</td>\n",
       "      <td>17:28:00</td>\n",
       "      <td>3.666</td>\n",
       "      <td>0.528</td>\n",
       "      <td>235.68</td>\n",
       "      <td>15.8</td>\n",
       "      <td>0.0</td>\n",
       "      <td>1.0</td>\n",
       "      <td>17.0</td>\n",
       "      <td>2006-12-16 17:28:00</td>\n",
       "    </tr>\n",
       "  </tbody>\n",
       "</table>\n",
       "</div>"
      ],
      "text/plain": [
       "        Date     Time  Global_active_power  Global_reactive_power  Voltage  \\\n",
       "0 2006-12-16 17:24:00                4.216                  0.418   234.84   \n",
       "1 2006-12-16 17:25:00                5.360                  0.436   233.63   \n",
       "2 2006-12-16 17:26:00                5.374                  0.498   233.29   \n",
       "3 2006-12-16 17:27:00                5.388                  0.502   233.74   \n",
       "4 2006-12-16 17:28:00                3.666                  0.528   235.68   \n",
       "\n",
       "   Global_intensity  Sub_metering_1  Sub_metering_2  Sub_metering_3  \\\n",
       "0              18.4             0.0             1.0            17.0   \n",
       "1              23.0             0.0             1.0            16.0   \n",
       "2              23.0             0.0             2.0            17.0   \n",
       "3              23.0             0.0             1.0            17.0   \n",
       "4              15.8             0.0             1.0            17.0   \n",
       "\n",
       "            Timestamp  \n",
       "0 2006-12-16 17:24:00  \n",
       "1 2006-12-16 17:25:00  \n",
       "2 2006-12-16 17:26:00  \n",
       "3 2006-12-16 17:27:00  \n",
       "4 2006-12-16 17:28:00  "
      ]
     },
     "execution_count": 21,
     "metadata": {},
     "output_type": "execute_result"
    }
   ],
   "source": [
    "power_consumption.head()"
   ]
  },
  {
   "cell_type": "raw",
   "metadata": {},
   "source": [
    "As we see not only data types were changed, but date format was changed from European to American.\n",
    "\n",
    "In the next notebook we will see plots with aggregated data. "
   ]
  },
  {
   "cell_type": "markdown",
   "metadata": {},
   "source": [
    "Here is my github repository with the noteboook:\n",
    "https://github.com/Mathemilda/Individual-household-electric-power-consumption-Data-Set"
   ]
  }
 ],
 "metadata": {
  "kernelspec": {
   "display_name": "Python 3",
   "language": "python",
   "name": "python3"
  },
  "language_info": {
   "codemirror_mode": {
    "name": "ipython",
    "version": 3
   },
   "file_extension": ".py",
   "mimetype": "text/x-python",
   "name": "python",
   "nbconvert_exporter": "python",
   "pygments_lexer": "ipython3",
   "version": "3.7.4"
  }
 },
 "nbformat": 4,
 "nbformat_minor": 2
}
